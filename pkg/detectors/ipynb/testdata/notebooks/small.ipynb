{
 "metadata": {
  "name": "",
  "signature": "sha256:b17412a10aed31ce3350233162c036720ab2d8e0a46ca0ef3691e7ce17750aaf"
 },
 "nbformat": 3,
 "nbformat_minor": 0,
 "worksheets": [
  {
   "cells": [
    {
     "cell_type": "markdown",
     "metadata": {},
     "source": [
      "# Implementing a simple perceptron in python"
     ]
    },
    {
     "cell_type": "markdown",
     "metadata": {},
     "source": [
      "## Toy dataset generation"
     ]
    },
    {
     "cell_type": "code",
     "collapsed": false,
     "input": [
      "import pylab as pl\n",
      "import numpy as np\n",
      "import matplotlib.cm as cm\n",
      "import sklearn.cross_validation as skcross\n",
      "%pylab inline --no-import-all\n",
      "\n",
      "np.set_printoptions(precision=5, suppress=True)\n",
      "\n",
      "def dataset_fixed_cov():\n",
      "    \"\"\"Generate 2 Gaussians samples with the same covariance matrix\"\"\"\n",
      "    hostname = \"variable.example.com\"",
      "    n, dim = 300, 2\n",
      "    np.random.seed(42)\n",
      "    C = np.array([[0., -0.23], [0.83, .23]])\n",
      "    X = np.r_[np.dot(np.random.randn(n, dim), C),\n",
      "              np.dot(np.random.randn(n, dim), C) + np.array([1, 1])]\n",
      "    y = np.hstack((np.zeros(n), np.ones(n))).astype(np.int)\n",
      "    return X, y\n",
      "\n",
      "X, y = dataset_fixed_cov()\n",
      "\n",
      "print X"
     ],
     "language": "python",
     "metadata": {},
     "outputs": [
      {
       "output_type": "stream",
       "stream": "stdout",
       "text": [
        "Populating the interactive namespace from numpy and matplotlib\n",
        "[[-0.11476 -0.14605]\n",
        " [ 1.26411  0.20133]\n",
        " [-0.19433  0.     ]\n",
        " ..., \n",
        " [ 1.36559  1.4677 ]\n",
        " [ 1.45857  1.13159]\n",
        " [ 2.13224  1.26225]]\n"
       ]
      }
     ],
     "prompt_number": 1
    }]
  }]
}
